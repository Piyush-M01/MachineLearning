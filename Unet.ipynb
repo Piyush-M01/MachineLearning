{
 "cells": [
  {
   "cell_type": "markdown",
   "metadata": {
    "id": "0yzw52ijmSvF"
   },
   "source": [
    "**LANE DETECTION**\n"
   ]
  },
  {
   "cell_type": "code",
   "execution_count": null,
   "metadata": {
    "id": "Z5mMaRd1mYpe"
   },
   "outputs": [],
   "source": [
    "import numpy as np\n",
    "import pickle\n",
    "from sklearn.utils import shuffle\n",
    "from sklearn.model_selection import train_test_split\n",
    "from keras.models import Sequential\n",
    "from keras.layers import Activation, Dropout, UpSampling2D\n",
    "from keras.layers import Conv2DTranspose, Conv2D, MaxPooling2D\n",
    "from keras.layers.normalization import BatchNormalization\n",
    "from keras.preprocessing.image import ImageDataGenerator\n",
    "from keras import regularizers\n",
    "import tensorflow as tf\n",
    "import matplotlib.pyplot as plt\n",
    "import numpy as np"
   ]
  },
  {
   "cell_type": "code",
   "execution_count": null,
   "metadata": {
    "colab": {
     "background_save": true
    },
    "id": "Ya2mSjvRoWrs"
   },
   "outputs": [],
   "source": [
    "def conv2d_block(input_tensor,n_filters,kernel_size=3):\n",
    "  x=input_tensor\n",
    "  for i in range(2):\n",
    "    x=tf.keras.layers.Conv2D(filters=n_filters,kernel_size=(kernel_size,kernel_size),padding='same')(x)\n",
    "    x=tf.keras.layers.Activation('relu')(x)\n",
    "  return x"
   ]
  },
  {
   "cell_type": "code",
   "execution_count": null,
   "metadata": {
    "colab": {
     "background_save": true
    },
    "id": "ePGx44GUY9qk"
   },
   "outputs": [],
   "source": [
    "def encoder_block(inputs,n_filter,pool_size,dropout):\n",
    "  f=conv2d_block(input_tensor=inputs,n_filters=n_filter)\n",
    "  p=tf.keras.layers.MaxPooling2D(pool_size)(f)\n",
    "  p=tf.keras.layers.Dropout(dropout)(p)\n",
    "  return f,p"
   ]
  },
  {
   "cell_type": "code",
   "execution_count": null,
   "metadata": {
    "colab": {
     "background_save": true
    },
    "id": "6xUuTA81Y-EU"
   },
   "outputs": [],
   "source": [
    "def encoder(inputs):\n",
    "  f1,p1=encoder_block(inputs,n_filter=64,pool_size=(2,2),dropout=0.3)\n",
    "  f2,p2=encoder_block(p1,n_filter=128,pool_size=(2,2),dropout=0.3)\n",
    "  f3,p3=encoder_block(p2,n_filter=256,pool_size=(2,2),dropout=0.3)\n",
    "  f4,p4=encoder_block(p3,n_filter=512,pool_size=(2,2),dropout=0.3)\n",
    "  return p4,(f1,f2,f3,f4)"
   ]
  },
  {
   "cell_type": "code",
   "execution_count": null,
   "metadata": {
    "colab": {
     "background_save": true
    },
    "id": "CD0WsD29Y-GY"
   },
   "outputs": [],
   "source": [
    "def bottleneck(inputs):\n",
    "  bottle_neck=conv2d_block(inputs,n_filters=1024)\n",
    "  return bottle_neck"
   ]
  },
  {
   "cell_type": "code",
   "execution_count": null,
   "metadata": {
    "colab": {
     "background_save": true
    },
    "id": "LWfp1ZDtcTWH"
   },
   "outputs": [],
   "source": [
    "def decoder_block(inputs,conv_output,n_filter,kernel_size,strides,dropout):\n",
    "  u=tf.keras.layers.Conv2DTranspose(n_filter,kernel_size,strides=strides,padding='same')(inputs)\n",
    "  c=tf.keras.layers.concatenate([u,conv_output])\n",
    "  c = tf.keras.layers.Dropout(dropout)(c)\n",
    "  c=conv2d_block(c,n_filter,kernel_size=3)\n",
    "  return c"
   ]
  },
  {
   "cell_type": "code",
   "execution_count": null,
   "metadata": {
    "colab": {
     "background_save": true
    },
    "id": "B032eOeZcTYk"
   },
   "outputs": [],
   "source": [
    "def decoder(inputs,convs):\n",
    "  f1,f2,f3,f4=convs\n",
    "  c6=decoder_block(inputs,f4,n_filter=512,kernel_size=(3,3),strides=(2,2),dropout=0.3)\n",
    "  c7=decoder_block(c6,f3,n_filter=256,kernel_size=(3,3),strides=(2,2),dropout=0.3)\n",
    "  c8=decoder_block(c7,f2,n_filter=128,kernel_size=(3,3),strides=(2,2),dropout=0.3)\n",
    "  c9=decoder_block(c8,f1,n_filter=64,kernel_size=(3,3),strides=(2,2),dropout=0.3)\n",
    "  outputs=tf.keras.layers.Conv2D(1,kernel_size=(1,1),activation='relu')(c9)\n",
    "  return outputs"
   ]
  },
  {
   "cell_type": "code",
   "execution_count": null,
   "metadata": {
    "colab": {
     "background_save": true
    },
    "id": "13p3nIyrY-JF"
   },
   "outputs": [],
   "source": [
    "def unet():\n",
    "  inputs=tf.keras.layers.Input(shape=(80,160,3,))\n",
    "  encoder_output,convs=encoder(inputs)\n",
    "  bottle_neck=bottleneck(encoder_output)\n",
    "  outputs=decoder(bottle_neck,convs)\n",
    "  model=tf.keras.Model(inputs=inputs,outputs=outputs)\n",
    "  return model\n"
   ]
  },
  {
   "cell_type": "code",
   "execution_count": null,
   "metadata": {
    "id": "MYlPuK5vmktk"
   },
   "outputs": [],
   "source": [
    "def main():\n",
    "  train_images=np.asarray(pickle.load(open(\"/content/full_CNN_train.p\",\"rb\")),dtype=np.float32)\n",
    "  labels = np.asarray(pickle.load(open(\"/content/full_CNN_labels (1).p\", \"rb\" )),dtype=np.float32)\n",
    "  train_images=train_images/255.0\n",
    "  labels=labels\n",
    "  train_images, labels = shuffle(train_images, labels)\n",
    "  X_train, X_val, y_train, y_val = train_test_split(train_images, labels, test_size=0.3)\n",
    "  model = unet()\n",
    "  model.compile(optimizer='Adam', loss='mse',metrics=['accuracy'])\n",
    "  model.fit(X_train,y_train,epochs=20,validation_data=(X_val, y_val))\n",
    "  model.save('full_CNN_model.h5')\n",
    "  model.summary()"
   ]
  },
  {
   "cell_type": "code",
   "execution_count": null,
   "metadata": {
    "colab": {
     "base_uri": "https://localhost:8080/"
    },
    "id": "K8oo4aiAf8W8",
    "outputId": "c0cfc882-d828-4178-8553-de5687e89cfd"
   },
   "outputs": [
    {
     "name": "stdout",
     "output_type": "stream",
     "text": [
      "Epoch 1/20\n",
      "280/280 [==============================] - 144s 442ms/step - loss: 4541.0215 - accuracy: 0.6425 - val_loss: 2291.8345 - val_accuracy: 0.6045\n",
      "Epoch 2/20\n",
      "280/280 [==============================] - 117s 417ms/step - loss: 1261.9279 - accuracy: 0.7337 - val_loss: 784.0836 - val_accuracy: 0.7502\n",
      "Epoch 3/20\n",
      "280/280 [==============================] - 117s 417ms/step - loss: 551.5714 - accuracy: 0.7923 - val_loss: 486.1933 - val_accuracy: 0.7937\n",
      "Epoch 4/20\n",
      "280/280 [==============================] - 117s 417ms/step - loss: 417.5916 - accuracy: 0.8025 - val_loss: 358.9798 - val_accuracy: 0.8034\n",
      "Epoch 5/20\n",
      "280/280 [==============================] - 117s 417ms/step - loss: 369.1750 - accuracy: 0.8067 - val_loss: 317.3764 - val_accuracy: 0.8076\n",
      "Epoch 6/20\n",
      "280/280 [==============================] - 117s 417ms/step - loss: 346.3092 - accuracy: 0.8049 - val_loss: 315.1044 - val_accuracy: 0.7906\n",
      "Epoch 7/20\n",
      "280/280 [==============================] - 117s 417ms/step - loss: 322.1720 - accuracy: 0.8044 - val_loss: 291.1869 - val_accuracy: 0.8024\n",
      "Epoch 8/20\n",
      "280/280 [==============================] - 117s 417ms/step - loss: 302.8618 - accuracy: 0.8053 - val_loss: 289.6741 - val_accuracy: 0.8033\n",
      "Epoch 9/20\n",
      "280/280 [==============================] - 117s 417ms/step - loss: 290.3528 - accuracy: 0.8061 - val_loss: 333.8853 - val_accuracy: 0.8130\n",
      "Epoch 10/20\n",
      "280/280 [==============================] - 117s 417ms/step - loss: 291.6264 - accuracy: 0.8065 - val_loss: 259.9548 - val_accuracy: 0.7961\n",
      "Epoch 11/20\n",
      "280/280 [==============================] - 117s 417ms/step - loss: 279.0622 - accuracy: 0.8074 - val_loss: 249.1284 - val_accuracy: 0.8056\n",
      "Epoch 12/20\n",
      "280/280 [==============================] - 117s 417ms/step - loss: 278.9897 - accuracy: 0.8094 - val_loss: 246.4602 - val_accuracy: 0.8053\n",
      "Epoch 13/20\n",
      "280/280 [==============================] - 117s 417ms/step - loss: 269.5930 - accuracy: 0.8084 - val_loss: 226.5849 - val_accuracy: 0.8088\n",
      "Epoch 14/20\n",
      "280/280 [==============================] - 117s 417ms/step - loss: 254.6142 - accuracy: 0.8090 - val_loss: 222.6985 - val_accuracy: 0.8015\n",
      "Epoch 15/20\n",
      "280/280 [==============================] - 117s 417ms/step - loss: 242.2274 - accuracy: 0.8093 - val_loss: 212.8323 - val_accuracy: 0.8116\n",
      "Epoch 16/20\n",
      "280/280 [==============================] - 117s 417ms/step - loss: 240.4324 - accuracy: 0.8103 - val_loss: 246.5543 - val_accuracy: 0.8063\n",
      "Epoch 17/20\n",
      "280/280 [==============================] - 117s 417ms/step - loss: 263.0558 - accuracy: 0.8090 - val_loss: 221.6875 - val_accuracy: 0.8135\n",
      "Epoch 18/20\n",
      "280/280 [==============================] - 117s 417ms/step - loss: 227.6892 - accuracy: 0.8111 - val_loss: 237.1177 - val_accuracy: 0.8073\n",
      "Epoch 19/20\n",
      "280/280 [==============================] - 117s 417ms/step - loss: 224.6195 - accuracy: 0.8116 - val_loss: 206.1645 - val_accuracy: 0.8098\n",
      "Epoch 20/20\n",
      "280/280 [==============================] - 117s 417ms/step - loss: 211.4644 - accuracy: 0.8115 - val_loss: 186.9502 - val_accuracy: 0.8109\n",
      "Model: \"model\"\n",
      "__________________________________________________________________________________________________\n",
      "Layer (type)                    Output Shape         Param #     Connected to                     \n",
      "==================================================================================================\n",
      "input_1 (InputLayer)            [(None, 80, 160, 3)] 0                                            \n",
      "__________________________________________________________________________________________________\n",
      "conv2d (Conv2D)                 (None, 80, 160, 64)  1792        input_1[0][0]                    \n",
      "__________________________________________________________________________________________________\n",
      "activation (Activation)         (None, 80, 160, 64)  0           conv2d[0][0]                     \n",
      "__________________________________________________________________________________________________\n",
      "conv2d_1 (Conv2D)               (None, 80, 160, 64)  36928       activation[0][0]                 \n",
      "__________________________________________________________________________________________________\n",
      "activation_1 (Activation)       (None, 80, 160, 64)  0           conv2d_1[0][0]                   \n",
      "__________________________________________________________________________________________________\n",
      "max_pooling2d (MaxPooling2D)    (None, 40, 80, 64)   0           activation_1[0][0]               \n",
      "__________________________________________________________________________________________________\n",
      "dropout (Dropout)               (None, 40, 80, 64)   0           max_pooling2d[0][0]              \n",
      "__________________________________________________________________________________________________\n",
      "conv2d_2 (Conv2D)               (None, 40, 80, 128)  73856       dropout[0][0]                    \n",
      "__________________________________________________________________________________________________\n",
      "activation_2 (Activation)       (None, 40, 80, 128)  0           conv2d_2[0][0]                   \n",
      "__________________________________________________________________________________________________\n",
      "conv2d_3 (Conv2D)               (None, 40, 80, 128)  147584      activation_2[0][0]               \n",
      "__________________________________________________________________________________________________\n",
      "activation_3 (Activation)       (None, 40, 80, 128)  0           conv2d_3[0][0]                   \n",
      "__________________________________________________________________________________________________\n",
      "max_pooling2d_1 (MaxPooling2D)  (None, 20, 40, 128)  0           activation_3[0][0]               \n",
      "__________________________________________________________________________________________________\n",
      "dropout_1 (Dropout)             (None, 20, 40, 128)  0           max_pooling2d_1[0][0]            \n",
      "__________________________________________________________________________________________________\n",
      "conv2d_4 (Conv2D)               (None, 20, 40, 256)  295168      dropout_1[0][0]                  \n",
      "__________________________________________________________________________________________________\n",
      "activation_4 (Activation)       (None, 20, 40, 256)  0           conv2d_4[0][0]                   \n",
      "__________________________________________________________________________________________________\n",
      "conv2d_5 (Conv2D)               (None, 20, 40, 256)  590080      activation_4[0][0]               \n",
      "__________________________________________________________________________________________________\n",
      "activation_5 (Activation)       (None, 20, 40, 256)  0           conv2d_5[0][0]                   \n",
      "__________________________________________________________________________________________________\n",
      "max_pooling2d_2 (MaxPooling2D)  (None, 10, 20, 256)  0           activation_5[0][0]               \n",
      "__________________________________________________________________________________________________\n",
      "dropout_2 (Dropout)             (None, 10, 20, 256)  0           max_pooling2d_2[0][0]            \n",
      "__________________________________________________________________________________________________\n",
      "conv2d_6 (Conv2D)               (None, 10, 20, 512)  1180160     dropout_2[0][0]                  \n",
      "__________________________________________________________________________________________________\n",
      "activation_6 (Activation)       (None, 10, 20, 512)  0           conv2d_6[0][0]                   \n",
      "__________________________________________________________________________________________________\n",
      "conv2d_7 (Conv2D)               (None, 10, 20, 512)  2359808     activation_6[0][0]               \n",
      "__________________________________________________________________________________________________\n",
      "activation_7 (Activation)       (None, 10, 20, 512)  0           conv2d_7[0][0]                   \n",
      "__________________________________________________________________________________________________\n",
      "max_pooling2d_3 (MaxPooling2D)  (None, 5, 10, 512)   0           activation_7[0][0]               \n",
      "__________________________________________________________________________________________________\n",
      "dropout_3 (Dropout)             (None, 5, 10, 512)   0           max_pooling2d_3[0][0]            \n",
      "__________________________________________________________________________________________________\n",
      "conv2d_8 (Conv2D)               (None, 5, 10, 1024)  4719616     dropout_3[0][0]                  \n",
      "__________________________________________________________________________________________________\n",
      "activation_8 (Activation)       (None, 5, 10, 1024)  0           conv2d_8[0][0]                   \n",
      "__________________________________________________________________________________________________\n",
      "conv2d_9 (Conv2D)               (None, 5, 10, 1024)  9438208     activation_8[0][0]               \n",
      "__________________________________________________________________________________________________\n",
      "activation_9 (Activation)       (None, 5, 10, 1024)  0           conv2d_9[0][0]                   \n",
      "__________________________________________________________________________________________________\n",
      "conv2d_transpose (Conv2DTranspo (None, 10, 20, 512)  4719104     activation_9[0][0]               \n",
      "__________________________________________________________________________________________________\n",
      "concatenate (Concatenate)       (None, 10, 20, 1024) 0           conv2d_transpose[0][0]           \n",
      "                                                                 activation_7[0][0]               \n",
      "__________________________________________________________________________________________________\n",
      "dropout_4 (Dropout)             (None, 10, 20, 1024) 0           concatenate[0][0]                \n",
      "__________________________________________________________________________________________________\n",
      "conv2d_10 (Conv2D)              (None, 10, 20, 512)  4719104     dropout_4[0][0]                  \n",
      "__________________________________________________________________________________________________\n",
      "activation_10 (Activation)      (None, 10, 20, 512)  0           conv2d_10[0][0]                  \n",
      "__________________________________________________________________________________________________\n",
      "conv2d_11 (Conv2D)              (None, 10, 20, 512)  2359808     activation_10[0][0]              \n",
      "__________________________________________________________________________________________________\n",
      "activation_11 (Activation)      (None, 10, 20, 512)  0           conv2d_11[0][0]                  \n",
      "__________________________________________________________________________________________________\n",
      "conv2d_transpose_1 (Conv2DTrans (None, 20, 40, 256)  1179904     activation_11[0][0]              \n",
      "__________________________________________________________________________________________________\n",
      "concatenate_1 (Concatenate)     (None, 20, 40, 512)  0           conv2d_transpose_1[0][0]         \n",
      "                                                                 activation_5[0][0]               \n",
      "__________________________________________________________________________________________________\n",
      "dropout_5 (Dropout)             (None, 20, 40, 512)  0           concatenate_1[0][0]              \n",
      "__________________________________________________________________________________________________\n",
      "conv2d_12 (Conv2D)              (None, 20, 40, 256)  1179904     dropout_5[0][0]                  \n",
      "__________________________________________________________________________________________________\n",
      "activation_12 (Activation)      (None, 20, 40, 256)  0           conv2d_12[0][0]                  \n",
      "__________________________________________________________________________________________________\n",
      "conv2d_13 (Conv2D)              (None, 20, 40, 256)  590080      activation_12[0][0]              \n",
      "__________________________________________________________________________________________________\n",
      "activation_13 (Activation)      (None, 20, 40, 256)  0           conv2d_13[0][0]                  \n",
      "__________________________________________________________________________________________________\n",
      "conv2d_transpose_2 (Conv2DTrans (None, 40, 80, 128)  295040      activation_13[0][0]              \n",
      "__________________________________________________________________________________________________\n",
      "concatenate_2 (Concatenate)     (None, 40, 80, 256)  0           conv2d_transpose_2[0][0]         \n",
      "                                                                 activation_3[0][0]               \n",
      "__________________________________________________________________________________________________\n",
      "dropout_6 (Dropout)             (None, 40, 80, 256)  0           concatenate_2[0][0]              \n",
      "__________________________________________________________________________________________________\n",
      "conv2d_14 (Conv2D)              (None, 40, 80, 128)  295040      dropout_6[0][0]                  \n",
      "__________________________________________________________________________________________________\n",
      "activation_14 (Activation)      (None, 40, 80, 128)  0           conv2d_14[0][0]                  \n",
      "__________________________________________________________________________________________________\n",
      "conv2d_15 (Conv2D)              (None, 40, 80, 128)  147584      activation_14[0][0]              \n",
      "__________________________________________________________________________________________________\n",
      "activation_15 (Activation)      (None, 40, 80, 128)  0           conv2d_15[0][0]                  \n",
      "__________________________________________________________________________________________________\n",
      "conv2d_transpose_3 (Conv2DTrans (None, 80, 160, 64)  73792       activation_15[0][0]              \n",
      "__________________________________________________________________________________________________\n",
      "concatenate_3 (Concatenate)     (None, 80, 160, 128) 0           conv2d_transpose_3[0][0]         \n",
      "                                                                 activation_1[0][0]               \n",
      "__________________________________________________________________________________________________\n",
      "dropout_7 (Dropout)             (None, 80, 160, 128) 0           concatenate_3[0][0]              \n",
      "__________________________________________________________________________________________________\n",
      "conv2d_16 (Conv2D)              (None, 80, 160, 64)  73792       dropout_7[0][0]                  \n",
      "__________________________________________________________________________________________________\n",
      "activation_16 (Activation)      (None, 80, 160, 64)  0           conv2d_16[0][0]                  \n",
      "__________________________________________________________________________________________________\n",
      "conv2d_17 (Conv2D)              (None, 80, 160, 64)  36928       activation_16[0][0]              \n",
      "__________________________________________________________________________________________________\n",
      "activation_17 (Activation)      (None, 80, 160, 64)  0           conv2d_17[0][0]                  \n",
      "__________________________________________________________________________________________________\n",
      "conv2d_18 (Conv2D)              (None, 80, 160, 1)   65          activation_17[0][0]              \n",
      "==================================================================================================\n",
      "Total params: 34,513,345\n",
      "Trainable params: 34,513,345\n",
      "Non-trainable params: 0\n",
      "__________________________________________________________________________________________________\n",
      "CPU RAM Free: 11.3 GB\n",
      "GPU 0 ... Mem Free: 7211MB / 15109MB | Utilization  52%\n"
     ]
    }
   ],
   "source": [
    "if __name__ == '__main__':\n",
    "  main()\n"
   ]
  },
  {
   "cell_type": "markdown",
   "metadata": {
    "id": "KWBa2cM6YwQ7"
   },
   "source": [
    "Prediction"
   ]
  },
  {
   "cell_type": "code",
   "execution_count": null,
   "metadata": {
    "colab": {
     "base_uri": "https://localhost:8080/"
    },
    "id": "jtMI1yIoY8XH",
    "outputId": "668f221a-0fb3-4647-f2cf-e5ac8c682d3e"
   },
   "outputs": [
    {
     "name": "stdout",
     "output_type": "stream",
     "text": [
      "[[[123 128 137]\n",
      "  [114 119 128]\n",
      "  [110 115 124]\n",
      "  ...\n",
      "  [ 59 145 135]\n",
      "  [ 40 126 116]\n",
      "  [ 64 150 140]]\n",
      "\n",
      " [[120 125 134]\n",
      "  [111 116 125]\n",
      "  [107 112 121]\n",
      "  ...\n",
      "  [ 70 153 144]\n",
      "  [ 51 137 127]\n",
      "  [ 72 155 146]]\n",
      "\n",
      " [[116 121 130]\n",
      "  [106 111 120]\n",
      "  [103 108 117]\n",
      "  ...\n",
      "  [ 59 140 131]\n",
      "  [ 44 127 118]\n",
      "  [ 58 139 130]]\n",
      "\n",
      " ...\n",
      "\n",
      " [[ 82  91 100]\n",
      "  [ 84  93 102]\n",
      "  [ 86  95 104]\n",
      "  ...\n",
      "  [122 121 131]\n",
      "  [122 121 131]\n",
      "  [122 121 131]]\n",
      "\n",
      " [[ 79  88  97]\n",
      "  [ 86  95 104]\n",
      "  [ 95 104 113]\n",
      "  ...\n",
      "  [123 122 132]\n",
      "  [123 122 132]\n",
      "  [123 122 132]]\n",
      "\n",
      " [[ 94 103 112]\n",
      "  [ 89  98 107]\n",
      "  [ 82  91 100]\n",
      "  ...\n",
      "  [119 118 128]\n",
      "  [119 118 128]\n",
      "  [119 118 128]]]\n"
     ]
    }
   ],
   "source": [
    "import cv2\n",
    "image=cv2.imread('/content/drive/MyDrive/lane.jpeg')\n",
    "print(image)"
   ]
  },
  {
   "cell_type": "code",
   "execution_count": null,
   "metadata": {
    "id": "34UWC27wZuY5"
   },
   "outputs": [],
   "source": [
    "from keras.models import load_model"
   ]
  },
  {
   "cell_type": "code",
   "execution_count": null,
   "metadata": {
    "id": "k1lCxq1XalUz"
   },
   "outputs": [],
   "source": [
    "model = load_model('/content/drive/MyDrive/full_CNN_model (1).h5')"
   ]
  },
  {
   "cell_type": "code",
   "execution_count": null,
   "metadata": {
    "id": "C41Z9A-SatGj"
   },
   "outputs": [],
   "source": [
    "small_img = cv2.resize(image, (160, 80))\n",
    "small_img = np.array(small_img)\n",
    "small_img = small_img[None,:,:,:]"
   ]
  },
  {
   "cell_type": "code",
   "execution_count": null,
   "metadata": {
    "id": "Hp7LDzcja28e"
   },
   "outputs": [],
   "source": [
    "prediction = model.predict(small_img)"
   ]
  },
  {
   "cell_type": "code",
   "execution_count": null,
   "metadata": {
    "colab": {
     "base_uri": "https://localhost:8080/"
    },
    "id": "I9uB1d6ebMvs",
    "outputId": "74b9b345-5657-43d9-dee7-a0de015512c9"
   },
   "outputs": [
    {
     "data": {
      "text/plain": [
       "array([[[[  0.     ],\n",
       "         [  0.     ],\n",
       "         [  0.     ],\n",
       "         ...,\n",
       "         [  0.     ],\n",
       "         [  0.     ],\n",
       "         [  0.     ]],\n",
       "\n",
       "        [[  0.     ],\n",
       "         [  0.     ],\n",
       "         [  0.     ],\n",
       "         ...,\n",
       "         [  0.     ],\n",
       "         [  0.     ],\n",
       "         [  0.     ]],\n",
       "\n",
       "        [[  0.     ],\n",
       "         [  0.     ],\n",
       "         [  0.     ],\n",
       "         ...,\n",
       "         [  0.     ],\n",
       "         [  0.     ],\n",
       "         [  0.     ]],\n",
       "\n",
       "        ...,\n",
       "\n",
       "        [[ 72.21292],\n",
       "         [131.00311],\n",
       "         [166.14227],\n",
       "         ...,\n",
       "         [ 95.03482],\n",
       "         [135.16124],\n",
       "         [216.34215]],\n",
       "\n",
       "        [[188.34502],\n",
       "         [275.01797],\n",
       "         [322.48373],\n",
       "         ...,\n",
       "         [251.42761],\n",
       "         [246.19115],\n",
       "         [200.47148]],\n",
       "\n",
       "        [[453.47128],\n",
       "         [638.3103 ],\n",
       "         [734.4904 ],\n",
       "         ...,\n",
       "         [424.66052],\n",
       "         [427.6839 ],\n",
       "         [355.16138]]]], dtype=float32)"
      ]
     },
     "execution_count": 15,
     "metadata": {
      "tags": []
     },
     "output_type": "execute_result"
    }
   ],
   "source": [
    "prediction"
   ]
  },
  {
   "cell_type": "code",
   "execution_count": null,
   "metadata": {
    "colab": {
     "base_uri": "https://localhost:8080/",
     "height": 218
    },
    "id": "HLtsLbq0bcJ9",
    "outputId": "db7e86af-0649-4850-d7f1-232fe78fc5cb"
   },
   "outputs": [
    {
     "data": {
      "image/png": "[encoded data removed]",
      "text/plain": [
       "<Figure size 432x288 with 1 Axes>"
      ]
     },
     "metadata": {
      "needs_background": "light",
      "tags": []
     },
     "output_type": "display_data"
    }
   ],
   "source": [
    "if(len(prediction.shape)==4):\n",
    "  plt.imshow(np.squeeze(prediction))\n",
    "else:\n",
    "  plt.imshow(prediction)\n"
   ]
  },
  {
   "cell_type": "code",
   "execution_count": null,
   "metadata": {
    "id": "0Q6b8i8CmyC6"
   },
   "outputs": [],
   "source": []
  }
 ],
 "metadata": {
  "accelerator": "GPU",
  "colab": {
   "collapsed_sections": [],
   "name": "LaneDetection.ipynb",
   "provenance": []
  },
  "kernelspec": {
   "display_name": "Python 3",
   "language": "python",
   "name": "python3"
  },
  "language_info": {
   "codemirror_mode": {
    "name": "ipython",
    "version": 3
   },
   "file_extension": ".py",
   "mimetype": "text/x-python",
   "name": "python",
   "nbconvert_exporter": "python",
   "pygments_lexer": "ipython3",
   "version": "3.8.10"
  }
 },
 "nbformat": 4,
 "nbformat_minor": 4
}
