{
 "cells": [
  {
   "cell_type": "code",
   "execution_count": 1,
   "metadata": {
    "id": "Vp1zpNv4Uyug"
   },
   "outputs": [],
   "source": [
    "import numpy as np\n",
    "import pickle\n",
    "from sklearn.utils import shuffle\n",
    "from sklearn.model_selection import train_test_split\n",
    "\n",
    "# Import necessary items from Keras\n",
    "from keras.models import Sequential\n",
    "from keras.layers import Activation, Dropout, UpSampling2D\n",
    "from keras.layers import Conv2DTranspose, Conv2D, MaxPooling2D\n",
    "from keras.layers.normalization import BatchNormalization\n",
    "from keras.preprocessing.image import ImageDataGenerator\n",
    "from keras import regularizers\n",
    "import tensorflow as tf\n",
    "import matplotlib.pyplot as plt\n",
    "import numpy as np"
   ]
  },
  {
   "cell_type": "code",
   "execution_count": null,
   "metadata": {
    "id": "96SV1mZZiexZ"
   },
   "outputs": [],
   "source": [
    "def conv2d_block(input_tensor,n_filters,kernel_size=3):\n",
    "  x=input_tensor\n",
    "  for i in range(2):\n",
    "    x=tf.keras.layers.Conv2D(filters=n_filters,kernel_size=(kernel_size,kernel_size),padding='same')(x)\n",
    "    x=tf.keras.layers.Activation('relu')(x)\n",
    "  return x\n",
    "def encoder_block(inputs,n_filter,pool_size,dropout):\n",
    "  f=conv2d_block(input_tensor=inputs,n_filters=n_filter)\n",
    "  p=tf.keras.layers.MaxPooling2D(pool_size)(f)\n",
    "  p=tf.keras.layers.Dropout(dropout)(p)\n",
    "  return f,p\n",
    "def encoder1(inputs):\n",
    "  f1,p1=encoder_block(inputs,n_filter=64,pool_size=(2,2),dropout=0.3)\n",
    "  f2,p2=encoder_block(p1,n_filter=128,pool_size=(2,2),dropout=0.3)\n",
    "  f3,p3=encoder_block(p2,n_filter=256,pool_size=(2,2),dropout=0.3)\n",
    "  f4,p4=encoder_block(p3,n_filter=512,pool_size=(2,2),dropout=0.3)\n",
    "  return p4,(f1,f2,f3,f4)\n",
    "def bottleneck(inputs):\n",
    "  bottle_neck=conv2d_block(inputs,n_filters=1024)\n",
    "  return bottle_neck\n",
    "def decoder_block(inputs,conv_output,n_filter,kernel_size,strides,dropout):\n",
    "  u=tf.keras.layers.Conv2DTranspose(n_filter,kernel_size,strides=strides,padding='same')(inputs)\n",
    "  c=tf.keras.layers.concatenate([u,conv_output])\n",
    "  c = tf.keras.layers.Dropout(dropout)(c)\n",
    "  c=conv2d_block(c,n_filter,kernel_size=3)\n",
    "  return c\n",
    "def decoder1(inputs,convs):\n",
    "  f1,f2,f3,f4=convs\n",
    "  c6=decoder_block(inputs,f4,n_filter=512,kernel_size=(3,3),strides=(2,2),dropout=0.3)\n",
    "  c7=decoder_block(c6,f3,n_filter=256,kernel_size=(3,3),strides=(2,2),dropout=0.3)\n",
    "  c8=decoder_block(c7,f2,n_filter=128,kernel_size=(3,3),strides=(2,2),dropout=0.3)\n",
    "  c9=decoder_block(c8,f1,n_filter=64,kernel_size=(3,3),strides=(2,2),dropout=0.3)\n",
    "  outputs=tf.keras.layers.Conv2D(3,kernel_size=(1,1),activation='relu')(c9)\n",
    "  return outputs"
   ]
  },
  {
   "cell_type": "code",
   "execution_count": null,
   "metadata": {
    "id": "MSUJ3Jw4U8FD"
   },
   "outputs": [],
   "source": [
    "def block(x,filters,kernel_size,activation,pool_size,strides):\n",
    "    for i in range(0,3):\n",
    "        x=tf.keras.layers.Conv2D(filters=filters,kernel_size=kernel_size,activation=activation,padding='same')(x)\n",
    "    x=tf.keras.layers.MaxPooling2D(pool_size=pool_size,strides=strides)(x)\n",
    "    x=tf.keras.layers.Dropout(0.2)(x)\n",
    "    return x\n",
    "def encoder(inputs):\n",
    "    x=block(inputs,filters=64,kernel_size=(2,2),activation='relu',pool_size=(2,2),strides=(2,2))\n",
    "    p1=x\n",
    "    x=block(inputs,filters=128,kernel_size=(2,2),activation='relu',pool_size=(2,2),strides=(2,2))\n",
    "    p2=x\n",
    "    x=block(x,filters=256,kernel_size=(2,2),activation='relu',pool_size=(2,2),strides=(2,2))\n",
    "    p3=x\n",
    "    x=block(x,filters=512,kernel_size=(2,2),activation='relu',pool_size=(2,2),strides=(2,2))\n",
    "    p4=x\n",
    "    x=block(x,filters=512,kernel_size=(2,2),activation='relu',pool_size=(2,2),strides=(2,2))\n",
    "    p5=x\n",
    "    return (p3,p4,p5)\n",
    "def decoder(convs):\n",
    "    f3,f4,f5=convs\n",
    "    o=tf.keras.layers.Conv2DTranspose(512,kernel_size=(2,2),strides=(2,2),padding='same')(f5)\n",
    "    o=tf.keras.layers.Conv2D(512,(2,2),activation='relu',padding='same')(o)\n",
    "    o2=f4\n",
    "    o2=tf.keras.layers.Conv2D(512,(2,2),activation='relu',padding='same')(o2)\n",
    "    o=tf.keras.layers.Add()([o,o2])\n",
    "    o=tf.keras.layers.Conv2DTranspose(256,kernel_size=(2,2),strides=(2,2),padding='same')(o)\n",
    "    o=tf.keras.layers.Conv2D(256,(2,2),activation='relu',padding='same')(o)\n",
    "    o3=f3\n",
    "    o3=tf.keras.layers.Conv2D(256,(2,2),activation='relu',padding='same')(o3)\n",
    "    o=tf.keras.layers.Add()([o,o3])\n",
    "    o4=tf.keras.layers.Conv2DTranspose(1,kernel_size=(4,4),strides=(4,4))(o)\n",
    "    o=tf.keras.layers.Activation('relu')(o4)\n",
    "    return o\n",
    "def fcn8():\n",
    "    inputs1=tf.keras.layers.Input(shape=(192,192,3,))\n",
    "    encoder_output,convs=encoder1(inputs1)\n",
    "    bottle_neck=bottleneck(encoder_output)\n",
    "    outputs=decoder1(bottle_neck,convs)\n",
    "    inputs=outputs\n",
    "    convs=encoder(inputs)\n",
    "    outputs=decoder(convs)\n",
    "    model=tf.keras.Model(inputs=inputs1,outputs=outputs)\n",
    "    return model"
   ]
  },
  {
   "cell_type": "code",
   "execution_count": null,
   "metadata": {
    "id": "D1tWatAIVTR6"
   },
   "outputs": [],
   "source": [
    "def parse_image_function(example_proto):\n",
    "    #This descibes the structure of each element in the dataset\n",
    "    image_feature_description={\n",
    "        'height': tf.io.FixedLenFeature([], tf.int64),\n",
    "        'width': tf.io.FixedLenFeature([], tf.int64),\n",
    "        'image_raw': tf.io.FixedLenFeature([], tf.string),\n",
    "        'mask_raw': tf.io.FixedLenFeature([], tf.string)\n",
    "        }\n",
    "    \n",
    "    #The features are extracted to a dictionary\n",
    "    feature=tf.io.parse_single_example(example_proto, image_feature_description)\n",
    "    \n",
    "    #Images and Annotations are resized to (192,192)\n",
    "    image = tf.image.decode_jpeg(feature['image_raw'])\n",
    "    image = tf.cast(image, tf.float32) / 255.0\n",
    "    annotation = tf.image.decode_png(feature['mask_raw'], channels=1)\n",
    "    annotation = tf.cast(annotation, tf.float32) / 1.0\n",
    "    \n",
    "    image = tf.reshape(image, (360,640,3))\n",
    "    annotation = tf.reshape(annotation, (360,640,1))\n",
    "    \n",
    "    image = tf.image.pad_to_bounding_box(image, 140, 0, 640, 640)\n",
    "    annotation = tf.image.pad_to_bounding_box(annotation, 140, 0, 640, 640)\n",
    "    \n",
    "    image = tf.image.resize(image, size=(192,192))\n",
    "    annotation = tf.image.resize(annotation, size=(192,192))\n",
    "    \n",
    "    #Randomly flips images and annotations\n",
    "    if(random.random() > 0.5):\n",
    "        image = tf.image.flip_left_right(image)\n",
    "        annotation = tf.image.flip_left_right(annotation)\n",
    "    \n",
    "    return image, annotation"
   ]
  },
  {
   "cell_type": "code",
   "execution_count": null,
   "metadata": {
    "id": "x_oj9mMuVXhZ"
   },
   "outputs": [],
   "source": [
    "import random\n",
    "import math\n",
    "train_dataset = tf.data.TFRecordDataset(['train.tfrecords'])\n",
    "train_dataset = train_dataset.map(parse_image_function)\n",
    "ds_train = train_dataset.shuffle(buffer_size=584)\n",
    "ds_train = ds_train.repeat()\n",
    "ds_train = ds_train.batch(8)\n",
    "ds_train = ds_train.prefetch(buffer_size=tf.data.experimental.AUTOTUNE)\n",
    "\n",
    "val_dataset = tf.data.TFRecordDataset('val.tfrecords')\n",
    "val_dataset = val_dataset.map(parse_image_function)\n",
    "ds_val = val_dataset.shuffle(buffer_size=32)\n",
    "ds_val = ds_val.repeat()\n",
    "ds_val = ds_val.batch(8)\n",
    "ds_val = ds_val.prefetch(buffer_size=tf.data.experimental.AUTOTUNE)"
   ]
  },
  {
   "cell_type": "code",
   "execution_count": null,
   "metadata": {
    "id": "HKPgLqT-Zowu"
   },
   "outputs": [],
   "source": [
    "train_dataset\n",
    "from tensorflow.keras.callbacks import LearningRateScheduler"
   ]
  },
  {
   "cell_type": "code",
   "execution_count": null,
   "metadata": {
    "id": "Lw0R2osYZqYu"
   },
   "outputs": [],
   "source": [
    "def step_decay(epoch):\n",
    "  initial_lrate=0.001\n",
    "  drop = 0.8\n",
    "  epochs_drop = 2\n",
    "  lrate = initial_lrate * math.pow(drop, math.floor((1+epoch)/epochs_drop))\n",
    "  return lrate\n",
    "\n",
    "#learning rate with decay dfined by above funtion\n",
    "lrate = LearningRateScheduler(step_decay)\n",
    "\n",
    "#Callback to stop training after accuracy reaches 99.5%\n",
    "class myCallBack(tf.keras.callbacks.Callback):\n",
    "    def on_epoch_end(self, epoch, logs={}):\n",
    "        try:\n",
    "          if(logs.get('acc') >= 1):\n",
    "              self.model.stop_training = True\n",
    "        except:\n",
    "          pass\n",
    "\n",
    "callback = myCallBack()\n",
    "\n",
    "#Final list of callbacks    \n",
    "callbacks_list = [lrate, callback]"
   ]
  },
  {
   "cell_type": "code",
   "execution_count": null,
   "metadata": {
    "id": "ErTAp4f5ZtAo"
   },
   "outputs": [],
   "source": [
    "def main():\n",
    "  model = fcn8()\n",
    "  model.compile(optimizer=tf.keras.optimizers.Adam(0.0), loss='binary_crossentropy', metrics=['accuracy'])\n",
    "  model.fit(ds_train,steps_per_epoch=600//8,epochs=10, validation_data=ds_val, validation_steps=1, callbacks=callbacks_list, verbose = 1)\n",
    "  model.save('model.h5')"
   ]
  },
  {
   "cell_type": "code",
   "execution_count": null,
   "metadata": {
    "colab": {
     "base_uri": "https://localhost:8080/"
    },
    "id": "8okGjfcXizsr",
    "outputId": "46e28b9a-2646-4c0c-de53-287c63f86e76"
   },
   "outputs": [
    {
     "name": "stdout",
     "output_type": "stream",
     "text": [
      "Epoch 1/10\n",
      " 6/75 [=>............................] - ETA: 41s - loss: 0.2518 - accuracy: 0.9438WARNING:tensorflow:Callback method `on_train_batch_end` is slow compared to the batch time (batch time: 0.2319s vs `on_train_batch_end` time: 0.3768s). Check your callbacks.\n",
      "75/75 [==============================] - 53s 618ms/step - loss: 0.1161 - accuracy: 0.9733 - val_loss: 0.0998 - val_accuracy: 0.9730\n",
      "Epoch 2/10\n",
      "75/75 [==============================] - 47s 622ms/step - loss: 0.0860 - accuracy: 0.9758 - val_loss: 0.0755 - val_accuracy: 0.9769\n",
      "Epoch 3/10\n",
      "75/75 [==============================] - 47s 629ms/step - loss: 0.0798 - accuracy: 0.9758 - val_loss: 0.0806 - val_accuracy: 0.9696\n",
      "Epoch 4/10\n",
      "75/75 [==============================] - 48s 634ms/step - loss: 0.0530 - accuracy: 0.9793 - val_loss: 0.0521 - val_accuracy: 0.9790\n",
      "Epoch 5/10\n",
      "75/75 [==============================] - 48s 634ms/step - loss: 0.0870 - accuracy: 0.9767 - val_loss: 0.0760 - val_accuracy: 0.9726\n",
      "Epoch 6/10\n",
      "75/75 [==============================] - 48s 639ms/step - loss: 0.0519 - accuracy: 0.9802 - val_loss: 0.0535 - val_accuracy: 0.9795\n",
      "Epoch 7/10\n",
      "75/75 [==============================] - 48s 640ms/step - loss: 0.0508 - accuracy: 0.9803 - val_loss: 0.0479 - val_accuracy: 0.9783\n",
      "Epoch 8/10\n",
      "75/75 [==============================] - 48s 641ms/step - loss: 0.0405 - accuracy: 0.9831 - val_loss: 0.0370 - val_accuracy: 0.9813\n",
      "Epoch 9/10\n",
      "75/75 [==============================] - 48s 642ms/step - loss: 0.0505 - accuracy: 0.9811 - val_loss: 0.0556 - val_accuracy: 0.9742\n",
      "Epoch 10/10\n",
      "75/75 [==============================] - 48s 641ms/step - loss: 0.0481 - accuracy: 0.9804 - val_loss: 0.0513 - val_accuracy: 0.9782\n"
     ]
    },
    {
     "name": "stderr",
     "output_type": "stream",
     "text": [
      "/usr/local/lib/python3.7/dist-packages/tensorflow/python/keras/utils/generic_utils.py:497: CustomMaskWarning: Custom mask layers require a config and must override get_config. When loading, the custom mask layer must be passed to the custom_objects argument.\n",
      "  category=CustomMaskWarning)\n"
     ]
    }
   ],
   "source": [
    "main()"
   ]
  },
  {
   "cell_type": "code",
   "execution_count": null,
   "metadata": {
    "colab": {
     "base_uri": "https://localhost:8080/"
    },
    "id": "QfncCHSMjj0F",
    "outputId": "8b6b23f3-e595-4d5d-f275-34a1b437205d"
   },
   "outputs": [
    {
     "name": "stdout",
     "output_type": "stream",
     "text": [
      "[[[123 128 137]\n",
      "  [114 119 128]\n",
      "  [110 115 124]\n",
      "  ...\n",
      "  [ 59 145 135]\n",
      "  [ 40 126 116]\n",
      "  [ 64 150 140]]\n",
      "\n",
      " [[120 125 134]\n",
      "  [111 116 125]\n",
      "  [107 112 121]\n",
      "  ...\n",
      "  [ 70 153 144]\n",
      "  [ 51 137 127]\n",
      "  [ 72 155 146]]\n",
      "\n",
      " [[116 121 130]\n",
      "  [106 111 120]\n",
      "  [103 108 117]\n",
      "  ...\n",
      "  [ 59 140 131]\n",
      "  [ 44 127 118]\n",
      "  [ 58 139 130]]\n",
      "\n",
      " ...\n",
      "\n",
      " [[ 82  91 100]\n",
      "  [ 84  93 102]\n",
      "  [ 86  95 104]\n",
      "  ...\n",
      "  [122 121 131]\n",
      "  [122 121 131]\n",
      "  [122 121 131]]\n",
      "\n",
      " [[ 79  88  97]\n",
      "  [ 86  95 104]\n",
      "  [ 95 104 113]\n",
      "  ...\n",
      "  [123 122 132]\n",
      "  [123 122 132]\n",
      "  [123 122 132]]\n",
      "\n",
      " [[ 94 103 112]\n",
      "  [ 89  98 107]\n",
      "  [ 82  91 100]\n",
      "  ...\n",
      "  [119 118 128]\n",
      "  [119 118 128]\n",
      "  [119 118 128]]]\n"
     ]
    },
    {
     "data": {
      "text/plain": [
       "array([[[[12.846691 ],\n",
       "         [15.206463 ],\n",
       "         [17.27764  ],\n",
       "         ...,\n",
       "         [68.259636 ],\n",
       "         [53.66459  ],\n",
       "         [34.963085 ]],\n",
       "\n",
       "        [[11.512306 ],\n",
       "         [15.8241825],\n",
       "         [19.436148 ],\n",
       "         ...,\n",
       "         [77.96562  ],\n",
       "         [54.336838 ],\n",
       "         [20.006462 ]],\n",
       "\n",
       "        [[14.988092 ],\n",
       "         [21.546669 ],\n",
       "         [22.621758 ],\n",
       "         ...,\n",
       "         [86.53301  ],\n",
       "         [55.038322 ],\n",
       "         [21.65847  ]],\n",
       "\n",
       "        ...,\n",
       "\n",
       "        [[47.542324 ],\n",
       "         [50.19639  ],\n",
       "         [45.26512  ],\n",
       "         ...,\n",
       "         [51.812283 ],\n",
       "         [28.791922 ],\n",
       "         [16.370644 ]],\n",
       "\n",
       "        [[41.30723  ],\n",
       "         [47.422962 ],\n",
       "         [35.60446  ],\n",
       "         ...,\n",
       "         [37.276943 ],\n",
       "         [24.068396 ],\n",
       "         [ 8.602993 ]],\n",
       "\n",
       "        [[29.502903 ],\n",
       "         [17.055634 ],\n",
       "         [22.341732 ],\n",
       "         ...,\n",
       "         [23.826624 ],\n",
       "         [22.41272  ],\n",
       "         [10.032773 ]]]], dtype=float32)"
      ]
     },
     "execution_count": 28,
     "metadata": {
      "tags": []
     },
     "output_type": "execute_result"
    }
   ],
   "source": [
    "import cv2 \n",
    "image=cv2.imread('lane.jpeg')\n",
    "print(image)\n",
    "from tensorflow.keras.models import load_model\n",
    "model = load_model('model.h5')\n",
    "small_img = cv2.resize(image, (192, 192))\n",
    "small_img = np.array(small_img)\n",
    "small_img = small_img[None,:,:,:]\n",
    "prediction = model.predict(small_img)\n",
    "prediction"
   ]
  },
  {
   "cell_type": "code",
   "execution_count": null,
   "metadata": {
    "colab": {
     "base_uri": "https://localhost:8080/",
     "height": 269
    },
    "id": "iUafbhf5m0Up",
    "outputId": "132c5079-3bea-44b2-aa76-62aaf1d89f42"
   },
   "outputs": [
    {
     "data": {
      "image/png": "[encoded data removed]",
      "text/plain": [
       "<Figure size 432x288 with 1 Axes>"
      ]
     },
     "metadata": {
      "needs_background": "light",
      "tags": []
     },
     "output_type": "display_data"
    }
   ],
   "source": [
    "if(len(prediction.shape)==4):\n",
    "  plt.imshow(np.squeeze(prediction))\n",
    "else:\n",
    "  plt.imshow(prediction)"
   ]
  },
  {
   "cell_type": "code",
   "execution_count": 6,
   "metadata": {
    "colab": {
     "base_uri": "https://localhost:8080/",
     "height": 374
    },
    "id": "kIA-p1rCnpZX",
    "outputId": "35067646-be99-4356-b49c-4a72e6f4a33d"
   },
   "outputs": [
    {
     "ename": "KeyboardInterrupt",
     "evalue": "ignored",
     "output_type": "error",
     "traceback": [
      "\u001b[0;31m---------------------------------------------------------------------------\u001b[0m",
      "\u001b[0;31mKeyboardInterrupt\u001b[0m                         Traceback (most recent call last)",
      "\u001b[0;32m<ipython-input-6-a403f8d8e694>\u001b[0m in \u001b[0;36m<module>\u001b[0;34m()\u001b[0m\n\u001b[1;32m     38\u001b[0m     \u001b[0mframe\u001b[0m \u001b[0;34m=\u001b[0m \u001b[0mnp\u001b[0m\u001b[0;34m.\u001b[0m\u001b[0marray\u001b[0m\u001b[0;34m(\u001b[0m\u001b[0mframe\u001b[0m\u001b[0;34m)\u001b[0m\u001b[0;34m\u001b[0m\u001b[0;34m\u001b[0m\u001b[0m\n\u001b[1;32m     39\u001b[0m     \u001b[0mframe1\u001b[0m \u001b[0;34m=\u001b[0m \u001b[0mframe\u001b[0m\u001b[0;34m[\u001b[0m\u001b[0;32mNone\u001b[0m\u001b[0;34m,\u001b[0m\u001b[0;34m:\u001b[0m\u001b[0;34m,\u001b[0m \u001b[0;34m:\u001b[0m\u001b[0;34m,\u001b[0m \u001b[0;34m:\u001b[0m\u001b[0;34m]\u001b[0m\u001b[0;34m\u001b[0m\u001b[0;34m\u001b[0m\u001b[0m\n\u001b[0;32m---> 40\u001b[0;31m     \u001b[0mmask1\u001b[0m \u001b[0;34m=\u001b[0m \u001b[0mmodel1\u001b[0m\u001b[0;34m.\u001b[0m\u001b[0mpredict\u001b[0m\u001b[0;34m(\u001b[0m\u001b[0mframe1\u001b[0m\u001b[0;34m)\u001b[0m\u001b[0;34m\u001b[0m\u001b[0;34m\u001b[0m\u001b[0m\n\u001b[0m\u001b[1;32m     41\u001b[0m     \u001b[0mrem\u001b[0m \u001b[0;34m=\u001b[0m \u001b[0mnp\u001b[0m\u001b[0;34m.\u001b[0m\u001b[0mresize\u001b[0m\u001b[0;34m(\u001b[0m\u001b[0mmask1\u001b[0m\u001b[0;34m,\u001b[0m \u001b[0;34m(\u001b[0m\u001b[0;36m192\u001b[0m\u001b[0;34m,\u001b[0m \u001b[0;36m192\u001b[0m\u001b[0;34m)\u001b[0m\u001b[0;34m)\u001b[0m\u001b[0;34m\u001b[0m\u001b[0;34m\u001b[0m\u001b[0m\n\u001b[1;32m     42\u001b[0m     \u001b[0mrem\u001b[0m\u001b[0;34m=\u001b[0m\u001b[0mnp\u001b[0m\u001b[0;34m.\u001b[0m\u001b[0mround\u001b[0m\u001b[0;34m(\u001b[0m\u001b[0mrem\u001b[0m\u001b[0;34m)\u001b[0m\u001b[0;34m\u001b[0m\u001b[0;34m\u001b[0m\u001b[0m\n",
      "\u001b[0;32m/usr/local/lib/python3.7/dist-packages/tensorflow/python/keras/engine/training.py\u001b[0m in \u001b[0;36mpredict\u001b[0;34m(self, x, batch_size, verbose, steps, callbacks, max_queue_size, workers, use_multiprocessing)\u001b[0m\n\u001b[1;32m   1743\u001b[0m       \u001b[0mcallbacks\u001b[0m\u001b[0;34m.\u001b[0m\u001b[0mon_predict_end\u001b[0m\u001b[0;34m(\u001b[0m\u001b[0;34m)\u001b[0m\u001b[0;34m\u001b[0m\u001b[0;34m\u001b[0m\u001b[0m\n\u001b[1;32m   1744\u001b[0m     \u001b[0mall_outputs\u001b[0m \u001b[0;34m=\u001b[0m \u001b[0mnest\u001b[0m\u001b[0;34m.\u001b[0m\u001b[0mmap_structure_up_to\u001b[0m\u001b[0;34m(\u001b[0m\u001b[0mbatch_outputs\u001b[0m\u001b[0;34m,\u001b[0m \u001b[0mconcat\u001b[0m\u001b[0;34m,\u001b[0m \u001b[0moutputs\u001b[0m\u001b[0;34m)\u001b[0m\u001b[0;34m\u001b[0m\u001b[0;34m\u001b[0m\u001b[0m\n\u001b[0;32m-> 1745\u001b[0;31m     \u001b[0;32mreturn\u001b[0m \u001b[0mtf_utils\u001b[0m\u001b[0;34m.\u001b[0m\u001b[0msync_to_numpy_or_python_type\u001b[0m\u001b[0;34m(\u001b[0m\u001b[0mall_outputs\u001b[0m\u001b[0;34m)\u001b[0m\u001b[0;34m\u001b[0m\u001b[0;34m\u001b[0m\u001b[0m\n\u001b[0m\u001b[1;32m   1746\u001b[0m \u001b[0;34m\u001b[0m\u001b[0m\n\u001b[1;32m   1747\u001b[0m   \u001b[0;32mdef\u001b[0m \u001b[0mreset_metrics\u001b[0m\u001b[0;34m(\u001b[0m\u001b[0mself\u001b[0m\u001b[0;34m)\u001b[0m\u001b[0;34m:\u001b[0m\u001b[0;34m\u001b[0m\u001b[0;34m\u001b[0m\u001b[0m\n",
      "\u001b[0;32m/usr/local/lib/python3.7/dist-packages/tensorflow/python/keras/utils/tf_utils.py\u001b[0m in \u001b[0;36msync_to_numpy_or_python_type\u001b[0;34m(tensors)\u001b[0m\n\u001b[1;32m    517\u001b[0m     \u001b[0;32mreturn\u001b[0m \u001b[0mt\u001b[0m  \u001b[0;31m# Don't turn ragged or sparse tensors to NumPy.\u001b[0m\u001b[0;34m\u001b[0m\u001b[0;34m\u001b[0m\u001b[0m\n\u001b[1;32m    518\u001b[0m \u001b[0;34m\u001b[0m\u001b[0m\n\u001b[0;32m--> 519\u001b[0;31m   \u001b[0;32mreturn\u001b[0m \u001b[0mnest\u001b[0m\u001b[0;34m.\u001b[0m\u001b[0mmap_structure\u001b[0m\u001b[0;34m(\u001b[0m\u001b[0m_to_single_numpy_or_python_type\u001b[0m\u001b[0;34m,\u001b[0m \u001b[0mtensors\u001b[0m\u001b[0;34m)\u001b[0m\u001b[0;34m\u001b[0m\u001b[0;34m\u001b[0m\u001b[0m\n\u001b[0m\u001b[1;32m    520\u001b[0m \u001b[0;34m\u001b[0m\u001b[0m\n\u001b[1;32m    521\u001b[0m \u001b[0;34m\u001b[0m\u001b[0m\n",
      "\u001b[0;32m/usr/local/lib/python3.7/dist-packages/tensorflow/python/util/nest.py\u001b[0m in \u001b[0;36mmap_structure\u001b[0;34m(func, *structure, **kwargs)\u001b[0m\n\u001b[1;32m    865\u001b[0m \u001b[0;34m\u001b[0m\u001b[0m\n\u001b[1;32m    866\u001b[0m   return pack_sequence_as(\n\u001b[0;32m--> 867\u001b[0;31m       \u001b[0mstructure\u001b[0m\u001b[0;34m[\u001b[0m\u001b[0;36m0\u001b[0m\u001b[0;34m]\u001b[0m\u001b[0;34m,\u001b[0m \u001b[0;34m[\u001b[0m\u001b[0mfunc\u001b[0m\u001b[0;34m(\u001b[0m\u001b[0;34m*\u001b[0m\u001b[0mx\u001b[0m\u001b[0;34m)\u001b[0m \u001b[0;32mfor\u001b[0m \u001b[0mx\u001b[0m \u001b[0;32min\u001b[0m \u001b[0mentries\u001b[0m\u001b[0;34m]\u001b[0m\u001b[0;34m,\u001b[0m\u001b[0;34m\u001b[0m\u001b[0;34m\u001b[0m\u001b[0m\n\u001b[0m\u001b[1;32m    868\u001b[0m       expand_composites=expand_composites)\n\u001b[1;32m    869\u001b[0m \u001b[0;34m\u001b[0m\u001b[0m\n",
      "\u001b[0;32m/usr/local/lib/python3.7/dist-packages/tensorflow/python/util/nest.py\u001b[0m in \u001b[0;36m<listcomp>\u001b[0;34m(.0)\u001b[0m\n\u001b[1;32m    865\u001b[0m \u001b[0;34m\u001b[0m\u001b[0m\n\u001b[1;32m    866\u001b[0m   return pack_sequence_as(\n\u001b[0;32m--> 867\u001b[0;31m       \u001b[0mstructure\u001b[0m\u001b[0;34m[\u001b[0m\u001b[0;36m0\u001b[0m\u001b[0;34m]\u001b[0m\u001b[0;34m,\u001b[0m \u001b[0;34m[\u001b[0m\u001b[0mfunc\u001b[0m\u001b[0;34m(\u001b[0m\u001b[0;34m*\u001b[0m\u001b[0mx\u001b[0m\u001b[0;34m)\u001b[0m \u001b[0;32mfor\u001b[0m \u001b[0mx\u001b[0m \u001b[0;32min\u001b[0m \u001b[0mentries\u001b[0m\u001b[0;34m]\u001b[0m\u001b[0;34m,\u001b[0m\u001b[0;34m\u001b[0m\u001b[0;34m\u001b[0m\u001b[0m\n\u001b[0m\u001b[1;32m    868\u001b[0m       expand_composites=expand_composites)\n\u001b[1;32m    869\u001b[0m \u001b[0;34m\u001b[0m\u001b[0m\n",
      "\u001b[0;32m/usr/local/lib/python3.7/dist-packages/tensorflow/python/keras/utils/tf_utils.py\u001b[0m in \u001b[0;36m_to_single_numpy_or_python_type\u001b[0;34m(t)\u001b[0m\n\u001b[1;32m    513\u001b[0m   \u001b[0;32mdef\u001b[0m \u001b[0m_to_single_numpy_or_python_type\u001b[0m\u001b[0;34m(\u001b[0m\u001b[0mt\u001b[0m\u001b[0;34m)\u001b[0m\u001b[0;34m:\u001b[0m\u001b[0;34m\u001b[0m\u001b[0;34m\u001b[0m\u001b[0m\n\u001b[1;32m    514\u001b[0m     \u001b[0;32mif\u001b[0m \u001b[0misinstance\u001b[0m\u001b[0;34m(\u001b[0m\u001b[0mt\u001b[0m\u001b[0;34m,\u001b[0m \u001b[0mops\u001b[0m\u001b[0;34m.\u001b[0m\u001b[0mTensor\u001b[0m\u001b[0;34m)\u001b[0m\u001b[0;34m:\u001b[0m\u001b[0;34m\u001b[0m\u001b[0;34m\u001b[0m\u001b[0m\n\u001b[0;32m--> 515\u001b[0;31m       \u001b[0mx\u001b[0m \u001b[0;34m=\u001b[0m \u001b[0mt\u001b[0m\u001b[0;34m.\u001b[0m\u001b[0mnumpy\u001b[0m\u001b[0;34m(\u001b[0m\u001b[0;34m)\u001b[0m\u001b[0;34m\u001b[0m\u001b[0;34m\u001b[0m\u001b[0m\n\u001b[0m\u001b[1;32m    516\u001b[0m       \u001b[0;32mreturn\u001b[0m \u001b[0mx\u001b[0m\u001b[0;34m.\u001b[0m\u001b[0mitem\u001b[0m\u001b[0;34m(\u001b[0m\u001b[0;34m)\u001b[0m \u001b[0;32mif\u001b[0m \u001b[0mnp\u001b[0m\u001b[0;34m.\u001b[0m\u001b[0mndim\u001b[0m\u001b[0;34m(\u001b[0m\u001b[0mx\u001b[0m\u001b[0;34m)\u001b[0m \u001b[0;34m==\u001b[0m \u001b[0;36m0\u001b[0m \u001b[0;32melse\u001b[0m \u001b[0mx\u001b[0m\u001b[0;34m\u001b[0m\u001b[0;34m\u001b[0m\u001b[0m\n\u001b[1;32m    517\u001b[0m     \u001b[0;32mreturn\u001b[0m \u001b[0mt\u001b[0m  \u001b[0;31m# Don't turn ragged or sparse tensors to NumPy.\u001b[0m\u001b[0;34m\u001b[0m\u001b[0;34m\u001b[0m\u001b[0m\n",
      "\u001b[0;32m/usr/local/lib/python3.7/dist-packages/tensorflow/python/framework/ops.py\u001b[0m in \u001b[0;36mnumpy\u001b[0;34m(self)\u001b[0m\n\u001b[1;32m   1092\u001b[0m     \"\"\"\n\u001b[1;32m   1093\u001b[0m     \u001b[0;31m# TODO(slebedev): Consider avoiding a copy for non-CPU or remote tensors.\u001b[0m\u001b[0;34m\u001b[0m\u001b[0;34m\u001b[0m\u001b[0;34m\u001b[0m\u001b[0m\n\u001b[0;32m-> 1094\u001b[0;31m     \u001b[0mmaybe_arr\u001b[0m \u001b[0;34m=\u001b[0m \u001b[0mself\u001b[0m\u001b[0;34m.\u001b[0m\u001b[0m_numpy\u001b[0m\u001b[0;34m(\u001b[0m\u001b[0;34m)\u001b[0m  \u001b[0;31m# pylint: disable=protected-access\u001b[0m\u001b[0;34m\u001b[0m\u001b[0;34m\u001b[0m\u001b[0m\n\u001b[0m\u001b[1;32m   1095\u001b[0m     \u001b[0;32mreturn\u001b[0m \u001b[0mmaybe_arr\u001b[0m\u001b[0;34m.\u001b[0m\u001b[0mcopy\u001b[0m\u001b[0;34m(\u001b[0m\u001b[0;34m)\u001b[0m \u001b[0;32mif\u001b[0m \u001b[0misinstance\u001b[0m\u001b[0;34m(\u001b[0m\u001b[0mmaybe_arr\u001b[0m\u001b[0;34m,\u001b[0m \u001b[0mnp\u001b[0m\u001b[0;34m.\u001b[0m\u001b[0mndarray\u001b[0m\u001b[0;34m)\u001b[0m \u001b[0;32melse\u001b[0m \u001b[0mmaybe_arr\u001b[0m\u001b[0;34m\u001b[0m\u001b[0;34m\u001b[0m\u001b[0m\n\u001b[1;32m   1096\u001b[0m \u001b[0;34m\u001b[0m\u001b[0m\n",
      "\u001b[0;32m/usr/local/lib/python3.7/dist-packages/tensorflow/python/framework/ops.py\u001b[0m in \u001b[0;36m_numpy\u001b[0;34m(self)\u001b[0m\n\u001b[1;32m   1058\u001b[0m   \u001b[0;32mdef\u001b[0m \u001b[0m_numpy\u001b[0m\u001b[0;34m(\u001b[0m\u001b[0mself\u001b[0m\u001b[0;34m)\u001b[0m\u001b[0;34m:\u001b[0m\u001b[0;34m\u001b[0m\u001b[0;34m\u001b[0m\u001b[0m\n\u001b[1;32m   1059\u001b[0m     \u001b[0;32mtry\u001b[0m\u001b[0;34m:\u001b[0m\u001b[0;34m\u001b[0m\u001b[0;34m\u001b[0m\u001b[0m\n\u001b[0;32m-> 1060\u001b[0;31m       \u001b[0;32mreturn\u001b[0m \u001b[0mself\u001b[0m\u001b[0;34m.\u001b[0m\u001b[0m_numpy_internal\u001b[0m\u001b[0;34m(\u001b[0m\u001b[0;34m)\u001b[0m\u001b[0;34m\u001b[0m\u001b[0;34m\u001b[0m\u001b[0m\n\u001b[0m\u001b[1;32m   1061\u001b[0m     \u001b[0;32mexcept\u001b[0m \u001b[0mcore\u001b[0m\u001b[0;34m.\u001b[0m\u001b[0m_NotOkStatusException\u001b[0m \u001b[0;32mas\u001b[0m \u001b[0me\u001b[0m\u001b[0;34m:\u001b[0m  \u001b[0;31m# pylint: disable=protected-access\u001b[0m\u001b[0;34m\u001b[0m\u001b[0;34m\u001b[0m\u001b[0m\n\u001b[1;32m   1062\u001b[0m       \u001b[0msix\u001b[0m\u001b[0;34m.\u001b[0m\u001b[0mraise_from\u001b[0m\u001b[0;34m(\u001b[0m\u001b[0mcore\u001b[0m\u001b[0;34m.\u001b[0m\u001b[0m_status_to_exception\u001b[0m\u001b[0;34m(\u001b[0m\u001b[0me\u001b[0m\u001b[0;34m.\u001b[0m\u001b[0mcode\u001b[0m\u001b[0;34m,\u001b[0m \u001b[0me\u001b[0m\u001b[0;34m.\u001b[0m\u001b[0mmessage\u001b[0m\u001b[0;34m)\u001b[0m\u001b[0;34m,\u001b[0m \u001b[0;32mNone\u001b[0m\u001b[0;34m)\u001b[0m  \u001b[0;31m# pylint: disable=protected-access\u001b[0m\u001b[0;34m\u001b[0m\u001b[0;34m\u001b[0m\u001b[0m\n",
      "\u001b[0;31mKeyboardInterrupt\u001b[0m: "
     ]
    }
   ],
   "source": [
    "from tensorflow.keras.models import load_model\n",
    "from IPython.display import clear_output\n",
    "import numpy as np\n",
    "from google.colab.patches import cv2_imshow\n",
    "from skimage import img_as_ubyte\n",
    "import cv2 as cv\n",
    "model1=load_model('model.h5')\n",
    "\n",
    "def roi(f):\n",
    "    h=192\n",
    "    w=192\n",
    "    reg=np.array([[(0,h),(0,h//2),(w,h//2),(w,h)]],np.int32)\n",
    "    maskx=np.zeros_like(f)\n",
    "    cv.fillPoly(maskx,reg,255)\n",
    "    img=cv.bitwise_and(f,maskx)\n",
    "    return img\n",
    "\n",
    "def houghlin(f,c):\n",
    "    ope=cv.morphologyEx(c,cv.MORPH_OPEN,(5,5))\n",
    "    dil=cv.dilate(ope,(5,5))\n",
    "    er=cv.erode(dil,(5,5))\n",
    "    lines = cv.HoughLinesP(er,2,np.pi/180,20,minLineLength=100,maxLineGap=15)\n",
    "    if lines is not None:\n",
    "        for i in range(0,lines.shape[0]):\n",
    "            for x1,y1,x2,y2 in lines[i]:\n",
    "                cv.line(f,(x1,y1),(x2,y2),(0,255,0),5)\n",
    "    return f\n",
    "\n",
    "cap=cv.VideoCapture(\"lane_vgt.mp4\")\n",
    "while True:\n",
    "    ret, frame = cap.read()\n",
    "    if not ret:\n",
    "        break\n",
    "    frame = cv.resize(frame, (192, 192))\n",
    "    frame = cv.copyMakeBorder(frame, 0, 0, 0, 0, cv.BORDER_CONSTANT, value=(0, 0, 0))\n",
    "    frame = frame / 255\n",
    "    frame = cv.resize(frame, (192, 192))\n",
    "    frame = np.array(frame)\n",
    "    frame1 = frame[None,:, :, :]\n",
    "    mask1 = model1.predict(frame1)\n",
    "    rem = np.resize(mask1, (192, 192))\n",
    "    rem=np.round(rem)\n",
    "    rem = rem * 255\n",
    "    #crop=roi(rem)\n",
    "    crop=roi(rem)\n",
    "    cv2_imshow(rem)\n",
    "    clear_output(wait=True)\n",
    "    if cv.waitKey(1) & 0xFF == ord('q'):\n",
    "        break\n",
    "cap.release()\n",
    "cv.destroyAllWindows()"
   ]
  },
  {
   "cell_type": "code",
   "execution_count": null,
   "metadata": {
    "id": "SuafYffx8pgO"
   },
   "outputs": [],
   "source": []
  }
 ],
 "metadata": {
  "accelerator": "GPU",
  "colab": {
   "collapsed_sections": [],
   "name": "Fusion.ipynb",
   "provenance": []
  },
  "kernelspec": {
   "display_name": "Python 3",
   "language": "python",
   "name": "python3"
  },
  "language_info": {
   "codemirror_mode": {
    "name": "ipython",
    "version": 3
   },
   "file_extension": ".py",
   "mimetype": "text/x-python",
   "name": "python",
   "nbconvert_exporter": "python",
   "pygments_lexer": "ipython3",
   "version": "3.8.10"
  }
 },
 "nbformat": 4,
 "nbformat_minor": 4
}
