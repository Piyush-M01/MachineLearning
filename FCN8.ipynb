{
 "cells": [
  {
   "cell_type": "code",
   "execution_count": null,
   "metadata": {
    "id": "OMGxJBU3iZDH"
   },
   "outputs": [],
   "source": [
    "import numpy as np\n",
    "import pickle\n",
    "from sklearn.utils import shuffle\n",
    "from sklearn.model_selection import train_test_split\n",
    "from keras.models import Sequential\n",
    "from keras.layers import Activation, Dropout, UpSampling2D\n",
    "from keras.layers import Conv2DTranspose, Conv2D, MaxPooling2D\n",
    "import tensorflow as tf\n",
    "import matplotlib.pyplot as plt\n",
    "import numpy as np\n",
    "from keras.layers import BatchNormalization\n",
    "import cv2\n",
    "from skimage.transform import resize"
   ]
  },
  {
   "cell_type": "code",
   "execution_count": null,
   "metadata": {
    "id": "XDcwjzAKimQx"
   },
   "outputs": [],
   "source": [
    "def block(x,filters,kernel_size,activation,pool_size,strides):\n",
    "    for i in range(0,3):\n",
    "        x=tf.keras.layers.Conv2D(filters=filters,kernel_size=kernel_size,activation=activation,padding='same')(x)\n",
    "    x=tf.keras.layers.MaxPooling2D(pool_size=pool_size,strides=strides)(x)\n",
    "    x=tf.keras.layers.Dropout(0.2)(x)\n",
    "    return x"
   ]
  },
  {
   "cell_type": "code",
   "execution_count": null,
   "metadata": {
    "id": "IRbqyd_Uix5O"
   },
   "outputs": [],
   "source": [
    "def encoder(inputs):\n",
    "    x=block(inputs,filters=64,kernel_size=(2,2),activation='relu',pool_size=(2,2),strides=(2,2))\n",
    "    p1=x\n",
    "    x=block(inputs,filters=128,kernel_size=(2,2),activation='relu',pool_size=(2,2),strides=(2,2))\n",
    "    p2=x\n",
    "    x=block(x,filters=256,kernel_size=(2,2),activation='relu',pool_size=(2,2),strides=(2,2))\n",
    "    p3=x\n",
    "    x=block(x,filters=512,kernel_size=(2,2),activation='relu',pool_size=(2,2),strides=(2,2))\n",
    "    p4=x\n",
    "    x=block(x,filters=512,kernel_size=(2,2),activation='relu',pool_size=(2,2),strides=(2,2))\n",
    "    p5=x\n",
    "    return (p3,p4,p5)"
   ]
  },
  {
   "cell_type": "code",
   "execution_count": null,
   "metadata": {
    "id": "I3hbolqqizFw"
   },
   "outputs": [],
   "source": [
    "def decoder(convs):\n",
    "    f3,f4,f5=convs\n",
    "    o=tf.keras.layers.Conv2DTranspose(512,kernel_size=(2,2),strides=(2,2),padding='same')(f5)\n",
    "    o=tf.keras.layers.Conv2D(512,(2,2),activation='relu',padding='same')(o)\n",
    "    o2=f4\n",
    "    o2=tf.keras.layers.Conv2D(512,(2,2),activation='relu',padding='same')(o2)\n",
    "    o=tf.keras.layers.Add()([o,o2])\n",
    "    o=tf.keras.layers.Conv2DTranspose(256,kernel_size=(2,2),strides=(2,2),padding='same')(o)\n",
    "    o=tf.keras.layers.Conv2D(256,(2,2),activation='relu',padding='same')(o)\n",
    "    o3=f3\n",
    "    o3=tf.keras.layers.Conv2D(256,(2,2),activation='relu',padding='same')(o3)\n",
    "    o=tf.keras.layers.Add()([o,o3])\n",
    "    o4=tf.keras.layers.Conv2DTranspose(1,kernel_size=(4,4),strides=(4,4))(o)\n",
    "    o=tf.keras.layers.Activation('relu')(o4)\n",
    "    return o\n",
    "    "
   ]
  },
  {
   "cell_type": "code",
   "execution_count": null,
   "metadata": {
    "id": "cOwTTrb3i0ug"
   },
   "outputs": [],
   "source": [
    "def fcn8():\n",
    "    inputs=tf.keras.layers.Input(shape=(192,192,3,))\n",
    "    convs=encoder(inputs)\n",
    "    outputs=decoder(convs)\n",
    "    model=tf.keras.Model(inputs=inputs,outputs=outputs)\n",
    "    return model"
   ]
  },
  {
   "cell_type": "code",
   "execution_count": null,
   "metadata": {
    "id": "ncQGRWC-i2VS"
   },
   "outputs": [],
   "source": [
    "def main():\n",
    "  train_images=np.asarray(pickle.load(open(\"/content/full_CNN_train.p\",\"rb\")),dtype=np.float32)\n",
    "  labels = np.asarray(pickle.load(open(\"/content/full_CNN_labels (1).p\", \"rb\" )),dtype=np.float32)\n",
    "  train_images=train_images/255.0\n",
    "  train_images, labels = shuffle(train_images, labels)\n",
    "  X_train, X_val, y_train, y_val = train_test_split(train_images, labels, test_size=0.3)\n",
    "  model = fcn8()\n",
    "  model.compile(optimizer='Adam', loss='mse',metrics=['accuracy'])\n",
    "  model.fit(X_train,y_train,epochs=10,validation_data=(X_val, y_val))\n",
    "  model.save('/content/drive/MyDrive/fcn8_model.h5')\n",
    "  model.summary()"
   ]
  },
  {
   "cell_type": "code",
   "execution_count": null,
   "metadata": {
    "colab": {
     "base_uri": "https://localhost:8080/"
    },
    "id": "EvFNs_cxi5MK",
    "outputId": "85ddfc59-ab2c-41ce-e21f-1c146d275b9f"
   },
   "outputs": [
    {
     "name": "stdout",
     "output_type": "stream",
     "text": [
      "Epoch 1/10\n",
      "280/280 [==============================] - 188s 589ms/step - loss: 5132.8491 - accuracy: 0.5602 - val_loss: 3755.3767 - val_accuracy: 0.6440\n",
      "Epoch 2/10\n",
      "280/280 [==============================] - 161s 576ms/step - loss: 2741.5366 - accuracy: 0.6688 - val_loss: 1633.4744 - val_accuracy: 0.7155\n",
      "Epoch 3/10\n",
      "280/280 [==============================] - 161s 576ms/step - loss: 1112.5570 - accuracy: 0.7739 - val_loss: 871.4842 - val_accuracy: 0.7941\n",
      "Epoch 4/10\n",
      "280/280 [==============================] - 161s 575ms/step - loss: 741.5959 - accuracy: 0.7986 - val_loss: 577.6794 - val_accuracy: 0.8039\n",
      "Epoch 5/10\n",
      "280/280 [==============================] - 161s 575ms/step - loss: 542.5301 - accuracy: 0.8070 - val_loss: 745.0823 - val_accuracy: 0.7965\n",
      "Epoch 6/10\n",
      "280/280 [==============================] - 161s 575ms/step - loss: 517.1888 - accuracy: 0.8093 - val_loss: 511.0235 - val_accuracy: 0.8140\n",
      "Epoch 7/10\n",
      "280/280 [==============================] - 161s 575ms/step - loss: 458.3602 - accuracy: 0.8123 - val_loss: 472.3846 - val_accuracy: 0.8152\n",
      "Epoch 8/10\n",
      "280/280 [==============================] - 161s 575ms/step - loss: 451.2661 - accuracy: 0.8122 - val_loss: 404.8628 - val_accuracy: 0.8172\n",
      "Epoch 9/10\n",
      "280/280 [==============================] - 161s 575ms/step - loss: 403.3376 - accuracy: 0.8137 - val_loss: 376.1558 - val_accuracy: 0.8116\n",
      "Epoch 10/10\n",
      "280/280 [==============================] - 161s 574ms/step - loss: 409.1418 - accuracy: 0.8138 - val_loss: 380.4688 - val_accuracy: 0.8178\n"
     ]
    },
    {
     "name": "stderr",
     "output_type": "stream",
     "text": [
      "/usr/local/lib/python3.7/dist-packages/tensorflow/python/keras/utils/generic_utils.py:497: CustomMaskWarning: Custom mask layers require a config and must override get_config. When loading, the custom mask layer must be passed to the custom_objects argument.\n",
      "  category=CustomMaskWarning)\n"
     ]
    },
    {
     "name": "stdout",
     "output_type": "stream",
     "text": [
      "Model: \"model\"\n",
      "__________________________________________________________________________________________________\n",
      "Layer (type)                    Output Shape         Param #     Connected to                     \n",
      "==================================================================================================\n",
      "input_1 (InputLayer)            [(None, 80, 160, 3)] 0                                            \n",
      "__________________________________________________________________________________________________\n",
      "conv2d (Conv2D)                 (None, 80, 160, 128) 1664        input_1[0][0]                    \n",
      "__________________________________________________________________________________________________\n",
      "conv2d_1 (Conv2D)               (None, 80, 160, 128) 65664       conv2d[0][0]                     \n",
      "__________________________________________________________________________________________________\n",
      "conv2d_2 (Conv2D)               (None, 80, 160, 128) 65664       conv2d_1[0][0]                   \n",
      "__________________________________________________________________________________________________\n",
      "max_pooling2d (MaxPooling2D)    (None, 40, 80, 128)  0           conv2d_2[0][0]                   \n",
      "__________________________________________________________________________________________________\n",
      "dropout (Dropout)               (None, 40, 80, 128)  0           max_pooling2d[0][0]              \n",
      "__________________________________________________________________________________________________\n",
      "conv2d_3 (Conv2D)               (None, 40, 80, 256)  131328      dropout[0][0]                    \n",
      "__________________________________________________________________________________________________\n",
      "conv2d_4 (Conv2D)               (None, 40, 80, 256)  262400      conv2d_3[0][0]                   \n",
      "__________________________________________________________________________________________________\n",
      "conv2d_5 (Conv2D)               (None, 40, 80, 256)  262400      conv2d_4[0][0]                   \n",
      "__________________________________________________________________________________________________\n",
      "max_pooling2d_1 (MaxPooling2D)  (None, 20, 40, 256)  0           conv2d_5[0][0]                   \n",
      "__________________________________________________________________________________________________\n",
      "dropout_1 (Dropout)             (None, 20, 40, 256)  0           max_pooling2d_1[0][0]            \n",
      "__________________________________________________________________________________________________\n",
      "conv2d_6 (Conv2D)               (None, 20, 40, 512)  524800      dropout_1[0][0]                  \n",
      "__________________________________________________________________________________________________\n",
      "conv2d_7 (Conv2D)               (None, 20, 40, 512)  1049088     conv2d_6[0][0]                   \n",
      "__________________________________________________________________________________________________\n",
      "conv2d_8 (Conv2D)               (None, 20, 40, 512)  1049088     conv2d_7[0][0]                   \n",
      "__________________________________________________________________________________________________\n",
      "max_pooling2d_2 (MaxPooling2D)  (None, 10, 20, 512)  0           conv2d_8[0][0]                   \n",
      "__________________________________________________________________________________________________\n",
      "dropout_2 (Dropout)             (None, 10, 20, 512)  0           max_pooling2d_2[0][0]            \n",
      "__________________________________________________________________________________________________\n",
      "conv2d_9 (Conv2D)               (None, 10, 20, 512)  1049088     dropout_2[0][0]                  \n",
      "__________________________________________________________________________________________________\n",
      "conv2d_10 (Conv2D)              (None, 10, 20, 512)  1049088     conv2d_9[0][0]                   \n",
      "__________________________________________________________________________________________________\n",
      "conv2d_11 (Conv2D)              (None, 10, 20, 512)  1049088     conv2d_10[0][0]                  \n",
      "__________________________________________________________________________________________________\n",
      "max_pooling2d_3 (MaxPooling2D)  (None, 5, 10, 512)   0           conv2d_11[0][0]                  \n",
      "__________________________________________________________________________________________________\n",
      "dropout_3 (Dropout)             (None, 5, 10, 512)   0           max_pooling2d_3[0][0]            \n",
      "__________________________________________________________________________________________________\n",
      "conv2d_transpose (Conv2DTranspo (None, 10, 20, 512)  1049088     dropout_3[0][0]                  \n",
      "__________________________________________________________________________________________________\n",
      "conv2d_12 (Conv2D)              (None, 10, 20, 512)  1049088     conv2d_transpose[0][0]           \n",
      "__________________________________________________________________________________________________\n",
      "conv2d_13 (Conv2D)              (None, 10, 20, 512)  1049088     dropout_2[0][0]                  \n",
      "__________________________________________________________________________________________________\n",
      "add (Add)                       (None, 10, 20, 512)  0           conv2d_12[0][0]                  \n",
      "                                                                 conv2d_13[0][0]                  \n",
      "__________________________________________________________________________________________________\n",
      "conv2d_transpose_1 (Conv2DTrans (None, 20, 40, 256)  524544      add[0][0]                        \n",
      "__________________________________________________________________________________________________\n",
      "conv2d_14 (Conv2D)              (None, 20, 40, 256)  262400      conv2d_transpose_1[0][0]         \n",
      "__________________________________________________________________________________________________\n",
      "conv2d_15 (Conv2D)              (None, 20, 40, 256)  262400      dropout_1[0][0]                  \n",
      "__________________________________________________________________________________________________\n",
      "add_1 (Add)                     (None, 20, 40, 256)  0           conv2d_14[0][0]                  \n",
      "                                                                 conv2d_15[0][0]                  \n",
      "__________________________________________________________________________________________________\n",
      "conv2d_transpose_2 (Conv2DTrans (None, 80, 160, 1)   4097        add_1[0][0]                      \n",
      "__________________________________________________________________________________________________\n",
      "activation (Activation)         (None, 80, 160, 1)   0           conv2d_transpose_2[0][0]         \n",
      "==================================================================================================\n",
      "Total params: 10,760,065\n",
      "Trainable params: 10,760,065\n",
      "Non-trainable params: 0\n",
      "__________________________________________________________________________________________________\n"
     ]
    }
   ],
   "source": [
    "if __name__ == '__main__':\n",
    "  main()"
   ]
  },
  {
   "cell_type": "code",
   "execution_count": 1,
   "metadata": {
    "colab": {
     "base_uri": "https://localhost:8080/"
    },
    "id": "vu3bOiqiRZfZ",
    "outputId": "557597f5-3223-492f-d2b1-40bb5a6943fb"
   },
   "outputs": [],
   "source": [
    "import cv2\n",
    "model.save('/content/fcn8_model.h5')\n",
    "model.summary()\n",
    "small_img = cv2.resize(image, (160, 80))\n",
    "small_img = np.array(small_img)\n",
    "small_img = small_img[None,:,:,:]\n",
    "prediction = model.predict(small_img)\n",
    "prediction"
   ]
  },
  {
   "cell_type": "code",
   "execution_count": null,
   "metadata": {
    "colab": {
     "base_uri": "https://localhost:8080/",
     "height": 218
    },
    "id": "R8dGUhxHYfDO",
    "outputId": "c9436577-063f-46a1-c63b-9a934ed3d6cd"
   },
   "outputs": [
    {
     "data": {
      "image/png": "[encoded data removed]",
      "text/plain": [
       "<Figure size 432x288 with 1 Axes>"
      ]
     },
     "metadata": {
      "needs_background": "light",
      "tags": []
     },
     "output_type": "display_data"
    }
   ],
   "source": [
    "if(len(prediction.shape)==4):\n",
    "  plt.imshow(np.squeeze(prediction))\n",
    "else:\n",
    "  plt.imshow(prediction)"
   ]
  },
  {
   "cell_type": "code",
   "execution_count": null,
   "metadata": {
    "id": "FAHDxtNhqUtZ"
   },
   "outputs": [],
   "source": [
    "if(len(prediction.shape)==4):\n",
    "  plt.imshow(np.squeeze(prediction))\n",
    "else:\n",
    "  plt.imshow(prediction)"
   ]
  },
  {
   "cell_type": "code",
   "execution_count": null,
   "metadata": {
    "id": "xmBWEuzUQc_3"
   },
   "outputs": [],
   "source": []
  }
 ],
 "metadata": {
  "accelerator": "GPU",
  "colab": {
   "collapsed_sections": [],
   "name": "FCN8.ipynb",
   "provenance": []
  },
  "kernelspec": {
   "display_name": "Python 3",
   "language": "python",
   "name": "python3"
  },
  "language_info": {
   "codemirror_mode": {
    "name": "ipython",
    "version": 3
   },
   "file_extension": ".py",
   "mimetype": "text/x-python",
   "name": "python",
   "nbconvert_exporter": "python",
   "pygments_lexer": "ipython3",
   "version": "3.8.10"
  }
 },
 "nbformat": 4,
 "nbformat_minor": 4
}
